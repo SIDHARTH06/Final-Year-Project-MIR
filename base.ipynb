{
 "cells": [
  {
   "cell_type": "code",
   "execution_count": 1,
   "id": "121b24d3",
   "metadata": {},
   "outputs": [],
   "source": [
    "import os\n",
    "import json\n",
    "import torch\n",
    "import librosa\n",
    "import numpy as np\n",
    "from torch.utils.data import Dataset"
   ]
  },
  {
   "cell_type": "code",
   "execution_count": null,
   "id": "853accec",
   "metadata": {},
   "outputs": [],
   "source": [
    "#Hyper Parameters\n",
    "SAMPLING_RATE = 22050\n",
    "NO_MFCC = 13\n",
    "HOP_LENGTH = 512\n",
    "DURATION = 30"
   ]
  },
  {
   "cell_type": "code",
   "execution_count": 2,
   "id": "2d3d2b43",
   "metadata": {},
   "outputs": [],
   "source": [
    "class MusicSegmentationDataset(Dataset):\n",
    "    def __init__(self, root_dir, sr=SAMPLING_RATE, n_mfcc=NO_MFCC, hop_length=HOP_LENGTH, duration=DURATION):\n",
    "        self.root_dir = root_dir\n",
    "        self.song_files = os.listdir(os.path.join(self.root_dir, 'songs'))\n",
    "        self.metadata_dir = os.path.join(self.root_dir, 'metadata')\n",
    "        self.sr = sr\n",
    "        self.n_mfcc = n_mfcc\n",
    "        self.hop_length = hop_length\n",
    "        self.duration = duration\n",
    "\n",
    "    def _load_ground_truth(self, song_name):\n",
    "        metadata_file = os.path.join(self.metadata_dir, f\"{song_name}.json\")\n",
    "        if os.path.exists(metadata_file):\n",
    "            with open(metadata_file, 'r') as json_file:\n",
    "                metadata = json.load(json_file)\n",
    "            return {\n",
    "                'pallavi': torch.tensor(metadata['pallavi']),\n",
    "                'anupallavi': torch.tensor(metadata['anupallavi']),\n",
    "                'charanam': torch.tensor(metadata['charanam']),\n",
    "                'bgm': torch.tensor(metadata['bgm'])\n",
    "            }\n",
    "        else:\n",
    "            return None\n",
    "\n",
    "    def _extract_features(self, music_file):\n",
    "        y, sr = librosa.load(music_file, sr=self.sr, duration=self.duration)\n",
    "        \n",
    "        # Extract MFCCs\n",
    "        mfcc = librosa.feature.mfcc(y=y, sr=sr, n_mfcc=self.n_mfcc, hop_length=self.hop_length)\n",
    "        \n",
    "        # Extract chroma features\n",
    "        chroma = librosa.feature.chroma_stft(y=y, sr=sr, hop_length=self.hop_length)\n",
    "        \n",
    "        # Extract mel-spectrogram features\n",
    "        mel_spec = librosa.feature.melspectrogram(y=y, sr=sr, hop_length=self.hop_length)\n",
    "        \n",
    "        return torch.tensor(mfcc.T, dtype=torch.float32), \\\n",
    "               torch.tensor(chroma.T, dtype=torch.float32), \\\n",
    "               torch.tensor(mel_spec.T, dtype=torch.float32)\n",
    "\n",
    "    def __len__(self):\n",
    "        return len(self.song_files)\n",
    "\n",
    "    def __getitem__(self, idx):\n",
    "        song_name = self.song_files[idx]\n",
    "        music_file = os.path.join(self.root_dir, 'songs', song_name)\n",
    "        ground_truth = self._load_ground_truth(song_name)\n",
    "\n",
    "        if ground_truth is not None:\n",
    "            mfcc, chroma, mel_spec = self._extract_features(music_file)\n",
    "            return {\n",
    "                'mfcc': mfcc,\n",
    "                'chroma': chroma,\n",
    "                'mel_spec': mel_spec,\n",
    "                'ground_truth': ground_truth\n",
    "            }\n",
    "        else:\n",
    "            return None\n"
   ]
  },
  {
   "cell_type": "code",
   "execution_count": null,
   "id": "0356e780",
   "metadata": {},
   "outputs": [],
   "source": []
  }
 ],
 "metadata": {
  "kernelspec": {
   "display_name": "Python 3 (ipykernel)",
   "language": "python",
   "name": "python3"
  },
  "language_info": {
   "codemirror_mode": {
    "name": "ipython",
    "version": 3
   },
   "file_extension": ".py",
   "mimetype": "text/x-python",
   "name": "python",
   "nbconvert_exporter": "python",
   "pygments_lexer": "ipython3",
   "version": "3.10.12"
  }
 },
 "nbformat": 4,
 "nbformat_minor": 5
}
